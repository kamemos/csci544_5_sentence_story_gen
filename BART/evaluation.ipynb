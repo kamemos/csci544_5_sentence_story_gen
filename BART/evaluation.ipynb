{
 "cells": [
  {
   "cell_type": "code",
   "execution_count": 2,
   "id": "adabcba3-8d93-43eb-904d-f837b07fadea",
   "metadata": {},
   "outputs": [],
   "source": [
    "import numpy as np\n",
    "import pandas as pd\n",
    "import nltk\n",
    "from rouge import Rouge \n",
    "from nltk.translate.bleu_score import sentence_bleu"
   ]
  },
  {
   "cell_type": "code",
   "execution_count": 3,
   "id": "1e4ffa0c-846f-488b-9d47-0ed331a6f846",
   "metadata": {},
   "outputs": [],
   "source": [
    "test_df = pd.read_csv('dataset/test_prediction.csv')"
   ]
  },
  {
   "cell_type": "code",
   "execution_count": 5,
   "id": "c6b4669e-a0a2-4047-b0b3-a8e8fe45097b",
   "metadata": {},
   "outputs": [],
   "source": [
    "rouge = Rouge()"
   ]
  },
  {
   "cell_type": "code",
   "execution_count": 6,
   "id": "b2b43119-7242-4a4f-84e6-78ebb1d1a01e",
   "metadata": {},
   "outputs": [
    {
     "data": {
      "text/plain": [
       "{'rouge-1': {'r': 0.20640733766233701,\n",
       "  'p': 0.22066887307137154,\n",
       "  'f': 0.207264551833074},\n",
       " 'rouge-2': {'r': 0.05261348179598186,\n",
       "  'p': 0.05568668720168704,\n",
       "  'f': 0.05206872135248042},\n",
       " 'rouge-l': {'r': 0.19357402236652202,\n",
       "  'p': 0.20678585692085594,\n",
       "  'f': 0.1942007093350796}}"
      ]
     },
     "execution_count": 6,
     "metadata": {},
     "output_type": "execute_result"
    }
   ],
   "source": [
    "rouge.get_scores(test_df['prediction'], test_df['sentence5'],avg=True)"
   ]
  },
  {
   "cell_type": "code",
   "execution_count": null,
   "id": "f7c60159-2d6d-4e37-8a80-ffc484cf0586",
   "metadata": {},
   "outputs": [],
   "source": []
  }
 ],
 "metadata": {
  "kernelspec": {
   "display_name": "Python 3 (ipykernel)",
   "language": "python",
   "name": "python3"
  },
  "language_info": {
   "codemirror_mode": {
    "name": "ipython",
    "version": 3
   },
   "file_extension": ".py",
   "mimetype": "text/x-python",
   "name": "python",
   "nbconvert_exporter": "python",
   "pygments_lexer": "ipython3",
   "version": "3.8.15"
  }
 },
 "nbformat": 4,
 "nbformat_minor": 5
}
